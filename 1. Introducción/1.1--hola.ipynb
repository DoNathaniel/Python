{
 "cells": [
  {
   "cell_type": "markdown",
   "id": "ab5975de",
   "metadata": {},
   "source": [
    "# 👋 Hola!\n",
    "Para comenzar a aprender con este repositorio, debes tener con consideración la siguiente información y funciones las cuales usaremos para explicarte todo lo que se hara."
   ]
  }
 ],
 "metadata": {
  "language_info": {
   "name": "python"
  }
 },
 "nbformat": 4,
 "nbformat_minor": 5
}
