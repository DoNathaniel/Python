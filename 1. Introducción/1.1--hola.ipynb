{
 "cells": [
  {
   "cell_type": "markdown",
   "id": "ab5975de",
   "metadata": {},
   "source": [
    "# 👋 Hola!\n",
    "Para comenzar a aprender con este repositorio, debes tener con consideración la siguiente información y funciones las cuales usaremos para explicarte todo lo que se hara."
   ]
  },
  {
   "cell_type": "markdown",
   "id": "344efdd4",
   "metadata": {},
   "source": [
    "## Conozcamos la consola print()"
   ]
  },
  {
   "cell_type": "markdown",
   "id": "ffea16d6",
   "metadata": {},
   "source": [
    "### ¿Como se utiliza?\n",
    "``print(contenido)``"
   ]
  },
  {
   "cell_type": "code",
   "execution_count": null,
   "id": "be6ed7c0",
   "metadata": {},
   "outputs": [],
   "source": [
    "print(\"Hola mundo\")"
   ]
  }
 ],
 "metadata": {
  "language_info": {
   "name": "python"
  }
 },
 "nbformat": 4,
 "nbformat_minor": 5
}
